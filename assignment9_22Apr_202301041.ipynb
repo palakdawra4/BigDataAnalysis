{
  "nbformat": 4,
  "nbformat_minor": 0,
  "metadata": {
    "colab": {
      "provenance": [],
      "authorship_tag": "ABX9TyP5KQ2OXlWC1JfGbuf8j00q",
      "include_colab_link": true
    },
    "kernelspec": {
      "name": "python3",
      "display_name": "Python 3"
    },
    "language_info": {
      "name": "python"
    }
  },
  "cells": [
    {
      "cell_type": "markdown",
      "metadata": {
        "id": "view-in-github",
        "colab_type": "text"
      },
      "source": [
        "<a href=\"https://colab.research.google.com/github/palakdawra4/BigDataAnalysis/blob/main/assignment9_22Apr_202301041.ipynb\" target=\"_parent\"><img src=\"https://colab.research.google.com/assets/colab-badge.svg\" alt=\"Open In Colab\"/></a>"
      ]
    },
    {
      "cell_type": "code",
      "execution_count": null,
      "metadata": {
        "id": "XJHkRHPFVwtu"
      },
      "outputs": [],
      "source": [
        "from sklearn.linear_model import LogisticRegression\n",
        "import numpy as np\n",
        "import pandas as pd\n",
        "import matplotlib.pyplot as plt\n",
        "data = pd.read_csv(\"Smoking_DataSet.csv\")\n",
        "X = data[['smoking_history']]\n",
        "Y = data['diabetes']\n",
        "model = LogisticRegression(solver='liblinear')\n",
        "model.fit(X, Y)\n",
        "predicted_probs = model.predict_proba(X)[:, 1]\n",
        "plt.scatter(X, Y)\n",
        "plt.plot(X, predicted_probs, color='red')\n",
        "plt.show()"
      ]
    }
  ]
}