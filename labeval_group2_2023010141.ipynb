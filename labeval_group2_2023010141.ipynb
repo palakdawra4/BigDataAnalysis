{
  "nbformat": 4,
  "nbformat_minor": 0,
  "metadata": {
    "colab": {
      "provenance": [],
      "authorship_tag": "ABX9TyMuYBx9gIj7JAK2dHRGxa9k",
      "include_colab_link": true
    },
    "kernelspec": {
      "name": "python3",
      "display_name": "Python 3"
    },
    "language_info": {
      "name": "python"
    }
  },
  "cells": [
    {
      "cell_type": "markdown",
      "metadata": {
        "id": "view-in-github",
        "colab_type": "text"
      },
      "source": [
        "<a href=\"https://colab.research.google.com/github/palakdawra4/BigDataAnalysis/blob/main/labeval_group2_2023010141.ipynb\" target=\"_parent\"><img src=\"https://colab.research.google.com/assets/colab-badge.svg\" alt=\"Open In Colab\"/></a>"
      ]
    },
    {
      "cell_type": "code",
      "execution_count": 13,
      "metadata": {
        "colab": {
          "base_uri": "https://localhost:8080/"
        },
        "id": "CmtOgR9fWFOo",
        "outputId": "9064e57d-a9a0-473d-ca20-e90c4ece2cf0"
      },
      "outputs": [
        {
          "output_type": "stream",
          "name": "stdout",
          "text": [
            "[ 10  16  16  52  54  62 453]\n",
            "[0 3 4 1 5 2 6]\n",
            "[10 16 16 52]\n",
            "[ 16  52  54  62 453]\n"
          ]
        }
      ],
      "source": [
        "import numpy as np\n",
        "arr1 = np.array([10, 52, 62, 16, 16, 54,453])\n",
        "data=np.sort(arr1)\n",
        "print(data)\n",
        "indices=np.argsort(arr1)\n",
        "print(indices)\n",
        "print(data[:4])\n",
        "print(data[-5 : ])"
      ]
    },
    {
      "cell_type": "code",
      "source": [],
      "metadata": {
        "id": "Ytv6CLMZcjFM"
      },
      "execution_count": null,
      "outputs": []
    }
  ]
}