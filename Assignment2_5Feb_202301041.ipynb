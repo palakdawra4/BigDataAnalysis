{
  "nbformat": 4,
  "nbformat_minor": 0,
  "metadata": {
    "colab": {
      "provenance": [],
      "authorship_tag": "ABX9TyPR6zakFJ4I7ojrf+Ld+uo5",
      "include_colab_link": true
    },
    "kernelspec": {
      "name": "python3",
      "display_name": "Python 3"
    },
    "language_info": {
      "name": "python"
    }
  },
  "cells": [
    {
      "cell_type": "markdown",
      "metadata": {
        "id": "view-in-github",
        "colab_type": "text"
      },
      "source": [
        "<a href=\"https://colab.research.google.com/github/palakdawra4/BigDataAnalysis/blob/main/Assignment2_5Feb_202301041.ipynb\" target=\"_parent\"><img src=\"https://colab.research.google.com/assets/colab-badge.svg\" alt=\"Open In Colab\"/></a>"
      ]
    },
    {
      "cell_type": "code",
      "source": [
        "import numpy as np\n",
        "arr1 = np.array([1, 2, 3, 6, 4, 5])\n",
        "arr2 = np.flip(arr1)\n",
        "print(arr2)"
      ],
      "metadata": {
        "colab": {
          "base_uri": "https://localhost:8080/"
        },
        "id": "javbl30m-Clt",
        "outputId": "cbe942a6-698e-4e57-d1f3-f7bf8ca051e9"
      },
      "execution_count": 9,
      "outputs": [
        {
          "output_type": "stream",
          "name": "stdout",
          "text": [
            "[5 4 6 3 2 1]\n"
          ]
        }
      ]
    },
    {
      "cell_type": "code",
      "source": [
        "import numpy as np\n",
        "arr1 = np.array([[1, 2], [3, 4]])\n",
        "arr2 = np.array([[1, 2], [3, 4]])\n",
        "if np.array_equal(arr1, arr2):\n",
        "  print(\"Arrays are equal\")\n",
        "else:\n",
        "  print(\"Arrays are not equal\")"
      ],
      "metadata": {
        "colab": {
          "base_uri": "https://localhost:8080/"
        },
        "id": "swbhWPkd-xml",
        "outputId": "a3190dce-c5be-4656-fb28-519592f2c010"
      },
      "execution_count": 9,
      "outputs": [
        {
          "output_type": "stream",
          "name": "stdout",
          "text": [
            "Arrays are equal\n"
          ]
        }
      ]
    },
    {
      "cell_type": "code",
      "source": [],
      "metadata": {
        "id": "rYSuBsbWZENB"
      },
      "execution_count": null,
      "outputs": []
    },
    {
      "cell_type": "code",
      "source": [
        "import numpy as np\n",
        "gfg = np.matrix('[4, 1, 9; 12, 3, 1; 4, 5, 6]')\n",
        "sum_of_matrix = np.sum(gfg)\n",
        "sum_of_rows = np.sum(gfg, 1)\n",
        "sum_of_cols = np.sum(gfg, 0)\n",
        "print(f\"sum of matrix: {sum_of_matrix}\")\n",
        "print(f\"sum of matrix row-wise: {sum_of_rows}\")\n",
        "print(f\"sum of matrix col-wise: {sum_of_cols}\")"
      ],
      "metadata": {
        "colab": {
          "base_uri": "https://localhost:8080/"
        },
        "id": "c-g6SJ3fUnVF",
        "outputId": "55988c0b-e635-4732-83eb-b3962d785248"
      },
      "execution_count": 10,
      "outputs": [
        {
          "output_type": "stream",
          "name": "stdout",
          "text": [
            "sum of matrix: 45\n",
            "sum of matrix row-wise: [[14]\n",
            " [16]\n",
            " [15]]\n",
            "sum of matrix col-wise: [[20  9 16]]\n"
          ]
        }
      ]
    }
  ]
}